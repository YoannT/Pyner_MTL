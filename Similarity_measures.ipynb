{
 "cells": [
  {
   "cell_type": "code",
   "execution_count": null,
   "id": "4c7cd571-c300-47ab-ad77-714843820260",
   "metadata": {},
   "outputs": [],
   "source": [
    "# Faire la différence entre bert tokens et mots pendant le calcul des mesures de similarité ?"
   ]
  },
  {
   "cell_type": "code",
   "execution_count": 32,
   "id": "04fe365b-f674-461d-a7f4-91a015ce5e01",
   "metadata": {},
   "outputs": [
    {
     "name": "stdout",
     "output_type": "stream",
     "text": [
      "NUMBER OF ENGLISH FILES: 7374\n"
     ]
    }
   ],
   "source": [
    "import sys\n",
    "\n",
    "sys.path.insert(0,'/home/ytaille/pyner/pyner')\n",
    "\n",
    "from pyner.datasets import BRATDataset\n",
    "\n",
    "conll_dataset = BRATDataset(\n",
    "    train=[\n",
    "        \"/home/ytaille/data/resources/conll/brat/eng/train\",\n",
    "    ],\n",
    "    test=\"/home/ytaille/data/resources/conll/brat/eng/test\",#\"path/to/brat/test\",    # None for training only, test directory otherwise\n",
    "    val=\"/home/ytaille/data/resources/conll/brat/eng/dev\", # first 20% doc will be for validation\n",
    "    seed=42,  # don't shuffle before splitting1\n",
    ")\n",
    "\n",
    "n2c2_dataset = BRATDataset(\n",
    "    train=[\n",
    "        \"/home/ytaille/data/resources/n2c2/brat_files/train\",\n",
    "    ],\n",
    "    test=\"/home/ytaille/data/resources/n2c2/brat_files/test\",#\"path/to/brat/test\",    # None for training only, test directory otherwise\n",
    "    val=\"/home/ytaille/data/resources/n2c2/brat_files/test\", # first 20% doc will be for validation\n",
    "    seed=42,  # don't shuffle before splitting\n",
    ")\n",
    "\n",
    "quaero_dataset = BRATDataset(\n",
    "    train=[\n",
    "        \"/home/ytaille/data/resources/quaero/corpus/train/MEDLINE\",\n",
    "    ],\n",
    "    test=\"/home/ytaille/data/resources/quaero/corpus/test/MEDLINE\",#\"path/to/brat/test\",    # None for training only, test directory otherwise\n",
    "    val=\"/home/ytaille/data/resources/quaero/corpus/dev/MEDLINE\", # first 20% doc will be for validation\n",
    "    seed=42,  # don't shuffle before splitting\n",
    ")\n",
    "\n",
    "mantra_dataset = BRATDataset(\n",
    "    train=[\n",
    "        \"/home/ytaille/data/resources/mantra/Mantra-GSC_new_ann/French/EMEA_ec22-cui-best_man\",\n",
    "    ],\n",
    "    test=\"/home/ytaille/data/resources/mantra/Mantra-GSC_new_ann/French/Medline_EN_FR_ec22-cui-best_man\",#\"path/to/brat/test\",    # None for training only, test directory otherwise\n",
    "    val=\"/home/ytaille/data/resources/mantra/Mantra-GSC_new_ann/French/Medline_EN_FR_ec22-cui-best_man\", # first 20% doc will be for validation\n",
    "    seed=42,  # don't shuffle before splitting\n",
    ")"
   ]
  },
  {
   "cell_type": "code",
   "execution_count": 3,
   "id": "6da2bc51-77e0-4ac0-bb03-f1a31e4ad7ba",
   "metadata": {},
   "outputs": [
    {
     "name": "stderr",
     "output_type": "stream",
     "text": [
      "/home/ytaille/.conda/envs/yt_nlp/lib/python3.7/site-packages/gensim/similarities/__init__.py:15: UserWarning: The gensim.similarities.levenshtein submodule is disabled, because the optional Levenshtein package <https://pypi.org/project/python-Levenshtein/> is unavailable. Install Levenhstein (e.g. `pip install python-Levenshtein`) to suppress this warning.\n",
      "  warnings.warn(msg)\n"
     ]
    }
   ],
   "source": [
    "from gensim.models import LdaModel\n",
    "from gensim.corpora.dictionary import Dictionary\n",
    "from gensim.utils import tokenize\n",
    "\n",
    "data_dict = {\n",
    "    \"mantra\": mantra_dataset,\n",
    "    \"conll\": conll_dataset,\n",
    "    \"n2c2\": n2c2_dataset,\n",
    "    \"quaero\": quaero_dataset,\n",
    "}\n",
    "\n",
    "text_dict = {\n",
    "    k: [list(tokenize(td['text'], deacc=True, lower=True)) for td in d.train_data]\n",
    "    for k, d in data_dict.items()\n",
    "}\n",
    "\n",
    "all_dictionary = Dictionary(sum(text_dict.values(), []))\n",
    "\n",
    "corpus_dict = {\n",
    "    k: [all_dictionary.doc2bow(text) for text in d]\n",
    "    for k, d in text_dict.items()\n",
    "}\n",
    "\n",
    "lda_dict = {\n",
    "    k: LdaModel(d, num_topics=10, id2word=all_dictionary)\n",
    "    for k, d in corpus_dict.items()\n",
    "}"
   ]
  },
  {
   "cell_type": "code",
   "execution_count": 5,
   "id": "3ab26bf6-7c5e-46aa-af45-5660b8e442c5",
   "metadata": {},
   "outputs": [],
   "source": [
    "import numpy as np\n",
    "\n",
    "mantra_topics = lda_dict['mantra'].get_topics()\n",
    "quaero_topics = lda_dict['quaero'].get_topics()"
   ]
  },
  {
   "cell_type": "code",
   "execution_count": 11,
   "id": "a2076979-7c2d-422d-8410-b3d679666460",
   "metadata": {},
   "outputs": [
    {
     "data": {
      "text/plain": [
       "0.0007967418"
      ]
     },
     "execution_count": 11,
     "metadata": {},
     "output_type": "execute_result"
    }
   ],
   "source": [
    "np.dot(mantra_topics, quaero_topics.T).max()"
   ]
  },
  {
   "cell_type": "code",
   "execution_count": null,
   "id": "36ca0d53-6c61-4d4e-9c8a-70b98cd0fc6d",
   "metadata": {},
   "outputs": [],
   "source": []
  }
 ],
 "metadata": {
  "kernelspec": {
   "display_name": "yt_nlp",
   "language": "python",
   "name": "yt_nlp"
  },
  "language_info": {
   "codemirror_mode": {
    "name": "ipython",
    "version": 3
   },
   "file_extension": ".py",
   "mimetype": "text/x-python",
   "name": "python",
   "nbconvert_exporter": "python",
   "pygments_lexer": "ipython3",
   "version": "3.7.9"
  }
 },
 "nbformat": 4,
 "nbformat_minor": 5
}
